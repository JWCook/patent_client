{
 "cells": [
  {
   "cell_type": "markdown",
   "metadata": {},
   "source": [
    "# Introduction to Patent_Client\n",
    "\n",
    "The patent_client package provides easy access to a number of USPTO and EPO patent data resources, all through a familiar ORM-like interface. If you have experience with the [Django ORM](https://docs.djangoproject.com/en/2.1/topics/db/queries/#retrieving-objects) with some extra features to accomodate the various data sources. Each data source is encapsulated in a Model object that represents various API's. The top-level models are:\n",
    "\n",
    "- `USApplication` (USPTO Patent Examination Data System)\n",
    "- `PtabTrial` (USPTO PTAB Trials API)\n",
    "- `Assignment` (USPTO Assignments API)\n",
    "- `Inpadoc` (EPO Inpadoc API)\n",
    "\n",
    "Several of these models also have sub-models, as discussed below. This notebook shows some simple examples for doing data lookups with each of the models. The other notebooks in the repository show more complex analysis using the [Pandas](https://pandas.pydata.org/) data science library."
   ]
  },
  {
   "cell_type": "markdown",
   "metadata": {},
   "source": [
    "## USApplication (USPTO Patent Examination Data System)\n",
    "\n",
    "The first model we'll look at is USApplication, an abstraction on top of the [USPTO Patent Examination Data System API](https://ped.uspto.gov/peds/#/apiDocumentation). The first step, which is common to all models, is to import the model object - USApplication. "
   ]
  },
  {
   "cell_type": "code",
   "execution_count": 1,
   "metadata": {},
   "outputs": [],
   "source": [
    "from patent_client import USApplication"
   ]
  },
  {
   "cell_type": "markdown",
   "metadata": {},
   "source": [
    "The model can then be queried to get actual data back to do analysis, review, etc. All queries take one of two forms:\n",
    "\n",
    "- Model.objects.filter(query) -> retreives many objects\n",
    "- Model.objects.get(query) -> retreives one object, otherwise throws an error\n",
    "\n",
    "For example, we can query USApplications by applicant by passing the query:\n",
    "```python\n",
    "    USApplication.objects.filter(first_named_applicant='Tesla Motors')\n",
    "```\n",
    "\n",
    "This query will retrieve all applications that name Tesla Motors as an applicant. By default, if you pass in only an argument without a keyword, like this:\n",
    "\n",
    "```python\n",
    "    USApplication.objects.get(\"10123456\")\n",
    "```\n",
    "the model assumes that you're referring to the application number, and fetches the corresponding app. A complete list of available query fields is available at Model.objects.query_fields. For example:\n",
    "\n",
    "```python\n",
    "    USApplication.objects.query_fields\n",
    "```\n",
    "\n",
    "*NOTE:* If you ever need help with something, try calling the Python builtin \"help\" function. All models have (or should have) super-handy help text about queries, available information, related objects, etc. E.g.:\n",
    "\n",
    "```python\n",
    "    help(USApplication)\n",
    "```  "
   ]
  },
  {
   "cell_type": "markdown",
   "metadata": {},
   "source": [
    "To protect the innocent, we'll use Tesla's patent portfolio as an example - a company that has publicly agreed not to assert its patents against others. To do a lookup by applicant, we query USApplication object like this:"
   ]
  },
  {
   "cell_type": "code",
   "execution_count": 2,
   "metadata": {},
   "outputs": [
    {
     "name": "stdout",
     "output_type": "stream",
     "text": [
      "We found apps with these applicant names:\n",
      "['Inc.; Tesla Motors', 'TESLA MOTORS. INC.;', 'Tesla Motors, Inc.;', 'TESLA MOTORS CANADA ULC;', 'Tesla Motors Canada ULC;', 'TESLA MOTORS, INC.;', 'TESLA MOTORS, INC;']\n"
     ]
    }
   ],
   "source": [
    "tesla_apps = USApplication.objects.filter(first_named_applicant='Tesla Motors')\n",
    "print('We found apps with these applicant names:')\n",
    "print(list(set(a.applicants[0].name for a in tesla_apps)))"
   ]
  },
  {
   "cell_type": "markdown",
   "metadata": {},
   "source": [
    "Let's grab one case, and explore the data therein. Note that all Model objects are dataclasses, with all the magic that includes, including descriptive __str__ functions with basic data:"
   ]
  },
  {
   "cell_type": "code",
   "execution_count": 3,
   "metadata": {},
   "outputs": [
    {
     "data": {
      "text/plain": [
       "USApplication(appl_id='16057119', patent_title='NOVEL BATTERY SYSTEMS BASED ON TWO-ADDITIVE ELECTROLYTE SYSTEMS INCLUDING 1,2,6-OXODITHIANE-2,2,6,6-TETRAOXIDE', app_status='Non Final Action Mailed')"
      ]
     },
     "execution_count": 3,
     "metadata": {},
     "output_type": "execute_result"
    }
   ],
   "source": [
    "tesla_app = tesla_apps[15]\n",
    "tesla_app"
   ]
  },
  {
   "cell_type": "markdown",
   "metadata": {},
   "source": [
    "A complete list of data attributes can be found by examining the fields of the dataclass"
   ]
  },
  {
   "cell_type": "code",
   "execution_count": 4,
   "metadata": {},
   "outputs": [
    {
     "data": {
      "text/plain": [
       "['appl_id',\n",
       " 'app_filing_date',\n",
       " 'patent_title',\n",
       " 'app_status',\n",
       " 'app_status_date',\n",
       " 'app_early_pub_number',\n",
       " 'app_early_pub_date',\n",
       " 'patent_number',\n",
       " 'patent_issue_date',\n",
       " 'wipo_early_pub_number',\n",
       " 'wipo_early_pub_date',\n",
       " 'corr_addr_cust_no',\n",
       " 'app_cust_number',\n",
       " 'app_attr_dock_number',\n",
       " 'app_location',\n",
       " 'first_inventor_file',\n",
       " 'app_type',\n",
       " 'app_entity_status',\n",
       " 'app_confr_number',\n",
       " 'app_cls_sub_cls',\n",
       " 'app_grp_art_number',\n",
       " 'app_exam_name',\n",
       " 'pta_pte_summary',\n",
       " 'correspondent',\n",
       " 'inventors',\n",
       " 'applicants',\n",
       " 'attorneys',\n",
       " 'transactions',\n",
       " 'child_continuity',\n",
       " 'parent_continuity',\n",
       " 'foreign_priority',\n",
       " 'pta_pte_tran_history',\n",
       " 'assignments']"
      ]
     },
     "execution_count": 4,
     "metadata": {},
     "output_type": "execute_result"
    }
   ],
   "source": [
    "[f.name for f in tesla_app.fields()]"
   ]
  },
  {
   "cell_type": "markdown",
   "metadata": {},
   "source": [
    "As you can see, there is a wealth of data about this particular case. Most of the names are relatively self-explanatory. We can look at some basic data by grabbing all the elements that start with \"app\". First, we'll use the .to_dict() method to convert the application to a standard Python dictionary. Then we'll only print items if they contain \"_app\":"
   ]
  },
  {
   "cell_type": "code",
   "execution_count": 5,
   "metadata": {},
   "outputs": [
    {
     "name": "stdout",
     "output_type": "stream",
     "text": [
      "app_attr_dock_number: TSLA.005A2\n",
      "app_cls_sub_cls: 429/324000\n",
      "app_confr_number: 2162\n",
      "app_cust_number: 113241\n",
      "app_early_pub_date: 2019-09-12\n",
      "app_early_pub_number: US20190280334A1\n",
      "app_entity_status: UNDISCOUNTED\n",
      "app_exam_name: YANCHUK, STEPHEN J\n",
      "app_filing_date: 2018-08-07\n",
      "app_grp_art_number: 1723\n",
      "app_location: ELECTRONIC\n",
      "app_status: Non Final Action Mailed\n",
      "app_status_date: 2022-07-19\n",
      "app_type: Utility\n",
      "appl_id: 16057119\n"
     ]
    }
   ],
   "source": [
    "for k, v in tesla_app.to_dict().items():\n",
    "    if 'app_' in k or k == 'appl_id':\n",
    "        print(f'{k}: {v}')\n",
    "        "
   ]
  },
  {
   "cell_type": "markdown",
   "metadata": {},
   "source": [
    "There are also some composite data elements. These elements consist of several related Model objects that model some part of the Application data. These data elements are:\n",
    "    \n",
    "- `USApplication.transactions` (a list of Transaction objects)\n",
    "- `USApplication.children` and `USApplication.parents` (both are lists of Relationship objects)\n",
    "- `USApplication.foreign_priority` (a list of ForeignPriority objects)\n",
    "- `USApplication.pta_pte_history` (a list of PtaPteHistory objects)\n",
    "- `USApplication.pta_pte_summary` (a PtaPteSummary object)\n",
    "- `USApplication.correspondent` (a Correspondent object)\n",
    "- `USApplication.attorneys` (a list of Attorney objects)\n",
    "    \n",
    "To use as an example, let's take a look at the transaction data, and fetch the first 15 records. "
   ]
  },
  {
   "cell_type": "code",
   "execution_count": 6,
   "metadata": {},
   "outputs": [
    {
     "data": {
      "text/plain": [
       "[Transaction(date=datetime.date(2022, 7, 21), code='ELC_RVW', description='Electronic Review'),\n",
       " Transaction(date=datetime.date(2022, 7, 21), code='EML_NTF', description='Email Notification'),\n",
       " Transaction(date=datetime.date(2022, 7, 21), code='MCTNF', description='Mail Non-Final Rejection'),\n",
       " Transaction(date=datetime.date(2022, 7, 15), code='CTNF', description='Non-Final Rejection'),\n",
       " Transaction(date=datetime.date(2022, 7, 15), code='IDSC', description='Information Disclosure Statement considered'),\n",
       " Transaction(date=datetime.date(2022, 7, 15), code='IDSC', description='Information Disclosure Statement considered'),\n",
       " Transaction(date=datetime.date(2021, 12, 20), code='WIDS', description='Information Disclosure Statement (IDS) Filed'),\n",
       " Transaction(date=datetime.date(2021, 7, 23), code='M844', description='Information Disclosure Statement (IDS) Filed'),\n",
       " Transaction(date=datetime.date(2021, 7, 26), code='FWDX', description='Date Forwarded to Examiner'),\n",
       " Transaction(date=datetime.date(2021, 7, 23), code='RCEX', description='Request for Continued Examination (RCE)'),\n",
       " Transaction(date=datetime.date(2021, 7, 26), code='ABN9', description='Disposal for a RCE / CPA / R129'),\n",
       " Transaction(date=datetime.date(2021, 7, 23), code='XT/G', description='Request for Extension of Time - Granted'),\n",
       " Transaction(date=datetime.date(2021, 7, 23), code='WIDS', description='Information Disclosure Statement (IDS) Filed'),\n",
       " Transaction(date=datetime.date(2021, 7, 23), code='BRCE', description='Workflow - Request for RCE - Begin'),\n",
       " Transaction(date=datetime.date(2021, 1, 25), code='ELC_RVW', description='Electronic Review')]"
      ]
     },
     "execution_count": 6,
     "metadata": {},
     "output_type": "execute_result"
    }
   ],
   "source": [
    "tesla_app.transactions[:15]"
   ]
  },
  {
   "cell_type": "markdown",
   "metadata": {},
   "source": [
    "You might notice that the above data is relatively messy. We can make the data look a bit cleaner by converting the objects to a Pandas dataframe. Every list of objects in patent_client has a .to_pandas method that will convert it to a pandas dataframe:"
   ]
  },
  {
   "cell_type": "code",
   "execution_count": 7,
   "metadata": {},
   "outputs": [
    {
     "data": {
      "text/html": [
       "<div>\n",
       "<style scoped>\n",
       "    .dataframe tbody tr th:only-of-type {\n",
       "        vertical-align: middle;\n",
       "    }\n",
       "\n",
       "    .dataframe tbody tr th {\n",
       "        vertical-align: top;\n",
       "    }\n",
       "\n",
       "    .dataframe thead th {\n",
       "        text-align: right;\n",
       "    }\n",
       "</style>\n",
       "<table border=\"1\" class=\"dataframe\">\n",
       "  <thead>\n",
       "    <tr style=\"text-align: right;\">\n",
       "      <th></th>\n",
       "      <th>code</th>\n",
       "      <th>date</th>\n",
       "      <th>description</th>\n",
       "    </tr>\n",
       "  </thead>\n",
       "  <tbody>\n",
       "    <tr>\n",
       "      <th>0</th>\n",
       "      <td>ELC_RVW</td>\n",
       "      <td>2022-07-21</td>\n",
       "      <td>Electronic Review</td>\n",
       "    </tr>\n",
       "    <tr>\n",
       "      <th>1</th>\n",
       "      <td>EML_NTF</td>\n",
       "      <td>2022-07-21</td>\n",
       "      <td>Email Notification</td>\n",
       "    </tr>\n",
       "    <tr>\n",
       "      <th>2</th>\n",
       "      <td>MCTNF</td>\n",
       "      <td>2022-07-21</td>\n",
       "      <td>Mail Non-Final Rejection</td>\n",
       "    </tr>\n",
       "    <tr>\n",
       "      <th>3</th>\n",
       "      <td>CTNF</td>\n",
       "      <td>2022-07-15</td>\n",
       "      <td>Non-Final Rejection</td>\n",
       "    </tr>\n",
       "    <tr>\n",
       "      <th>4</th>\n",
       "      <td>IDSC</td>\n",
       "      <td>2022-07-15</td>\n",
       "      <td>Information Disclosure Statement considered</td>\n",
       "    </tr>\n",
       "    <tr>\n",
       "      <th>5</th>\n",
       "      <td>IDSC</td>\n",
       "      <td>2022-07-15</td>\n",
       "      <td>Information Disclosure Statement considered</td>\n",
       "    </tr>\n",
       "    <tr>\n",
       "      <th>6</th>\n",
       "      <td>WIDS</td>\n",
       "      <td>2021-12-20</td>\n",
       "      <td>Information Disclosure Statement (IDS) Filed</td>\n",
       "    </tr>\n",
       "    <tr>\n",
       "      <th>7</th>\n",
       "      <td>M844</td>\n",
       "      <td>2021-07-23</td>\n",
       "      <td>Information Disclosure Statement (IDS) Filed</td>\n",
       "    </tr>\n",
       "    <tr>\n",
       "      <th>8</th>\n",
       "      <td>FWDX</td>\n",
       "      <td>2021-07-26</td>\n",
       "      <td>Date Forwarded to Examiner</td>\n",
       "    </tr>\n",
       "    <tr>\n",
       "      <th>9</th>\n",
       "      <td>RCEX</td>\n",
       "      <td>2021-07-23</td>\n",
       "      <td>Request for Continued Examination (RCE)</td>\n",
       "    </tr>\n",
       "    <tr>\n",
       "      <th>10</th>\n",
       "      <td>ABN9</td>\n",
       "      <td>2021-07-26</td>\n",
       "      <td>Disposal for a RCE / CPA / R129</td>\n",
       "    </tr>\n",
       "    <tr>\n",
       "      <th>11</th>\n",
       "      <td>XT/G</td>\n",
       "      <td>2021-07-23</td>\n",
       "      <td>Request for Extension of Time - Granted</td>\n",
       "    </tr>\n",
       "    <tr>\n",
       "      <th>12</th>\n",
       "      <td>WIDS</td>\n",
       "      <td>2021-07-23</td>\n",
       "      <td>Information Disclosure Statement (IDS) Filed</td>\n",
       "    </tr>\n",
       "    <tr>\n",
       "      <th>13</th>\n",
       "      <td>BRCE</td>\n",
       "      <td>2021-07-23</td>\n",
       "      <td>Workflow - Request for RCE - Begin</td>\n",
       "    </tr>\n",
       "    <tr>\n",
       "      <th>14</th>\n",
       "      <td>ELC_RVW</td>\n",
       "      <td>2021-01-25</td>\n",
       "      <td>Electronic Review</td>\n",
       "    </tr>\n",
       "  </tbody>\n",
       "</table>\n",
       "</div>"
      ],
      "text/plain": [
       "       code        date                                   description\n",
       "0   ELC_RVW  2022-07-21                             Electronic Review\n",
       "1   EML_NTF  2022-07-21                            Email Notification\n",
       "2     MCTNF  2022-07-21                      Mail Non-Final Rejection\n",
       "3      CTNF  2022-07-15                           Non-Final Rejection\n",
       "4      IDSC  2022-07-15   Information Disclosure Statement considered\n",
       "5      IDSC  2022-07-15   Information Disclosure Statement considered\n",
       "6      WIDS  2021-12-20  Information Disclosure Statement (IDS) Filed\n",
       "7      M844  2021-07-23  Information Disclosure Statement (IDS) Filed\n",
       "8      FWDX  2021-07-26                    Date Forwarded to Examiner\n",
       "9      RCEX  2021-07-23       Request for Continued Examination (RCE)\n",
       "10     ABN9  2021-07-26               Disposal for a RCE / CPA / R129\n",
       "11     XT/G  2021-07-23       Request for Extension of Time - Granted\n",
       "12     WIDS  2021-07-23  Information Disclosure Statement (IDS) Filed\n",
       "13     BRCE  2021-07-23            Workflow - Request for RCE - Begin\n",
       "14  ELC_RVW  2021-01-25                             Electronic Review"
      ]
     },
     "execution_count": 7,
     "metadata": {},
     "output_type": "execute_result"
    }
   ],
   "source": [
    "import pandas as pd\n",
    "pd.set_option('display.max_colwidth', None) # makes sure the table runs all the way to the edge\n",
    "\n",
    "tesla_app.transactions[:15].to_pandas()"
   ]
  },
  {
   "cell_type": "markdown",
   "metadata": {},
   "source": [
    "## PtabProceeding (USPTO PTAB Api)\n",
    "\n",
    "Now that you've seen a little bit of the USApplication API, let's take a look at the PTAB Trials API. We'll start with the usual import:"
   ]
  },
  {
   "cell_type": "code",
   "execution_count": 8,
   "metadata": {},
   "outputs": [],
   "source": [
    "from patent_client import PtabProceeding"
   ]
  },
  {
   "cell_type": "markdown",
   "metadata": {},
   "source": [
    "For randomness' sake, we'll pick the first IPR of 2017 to play around with, and look it up by its trial number:"
   ]
  },
  {
   "cell_type": "code",
   "execution_count": 9,
   "metadata": {},
   "outputs": [
    {
     "name": "stdout",
     "output_type": "stream",
     "text": [
      "PTAB Trial No. IPR2017-00001 was filed 2016-10-01 to challenge U.S. Patent 7468661\n",
      "The case is styled Emerson Electric Co. v. SIPCO, LLC\n"
     ]
    }
   ],
   "source": [
    "trial = PtabProceeding.objects.get('IPR2017-00001')\n",
    "print(f'PTAB Trial No. {trial.proceeding_number} was filed {trial.accorded_filing_date} to challenge U.S. Patent {trial.respondent_patent_number}')\n",
    "print(f'The case is styled {trial.petitioner_party_name} v. {trial.respondent_party_name}')"
   ]
  },
  {
   "cell_type": "markdown",
   "metadata": {},
   "source": [
    "The complete list of available data is again available at .attrs:"
   ]
  },
  {
   "cell_type": "code",
   "execution_count": 10,
   "metadata": {},
   "outputs": [
    {
     "data": {
      "text/plain": [
       "['last_modified_date',\n",
       " 'last_modified_user_id',\n",
       " 'institution_decision_date',\n",
       " 'proceeding_filing_date',\n",
       " 'accorded_filing_date',\n",
       " 'proceeding_status_category',\n",
       " 'proceeding_number',\n",
       " 'proceeding_last_modified_date',\n",
       " 'proceeding_type_category',\n",
       " 'subproceeding_type_category',\n",
       " 'decision_date',\n",
       " 'docket_notice_mail_date',\n",
       " 'declaration_date',\n",
       " 'style_name_text',\n",
       " 'respondent_technology_center_number',\n",
       " 'respondent_patent_owner_name',\n",
       " 'respondent_party_name',\n",
       " 'respondent_group_art_unit_number',\n",
       " 'respondent_inventor_name',\n",
       " 'respondent_counsel_name',\n",
       " 'respondent_grant_date',\n",
       " 'respondent_patent_number',\n",
       " 'respondent_application_number_text',\n",
       " 'respondent_publication_number',\n",
       " 'respondent_publication_date',\n",
       " 'petitioner_technology_center_number',\n",
       " 'petitioner_patent_owner_name',\n",
       " 'petitioner_party_name',\n",
       " 'petitioner_group_art_unit_number',\n",
       " 'petitioner_inventor_name',\n",
       " 'petitioner_counsel_name',\n",
       " 'petitioner_grant_date',\n",
       " 'petitioner_patent_number',\n",
       " 'petitioner_application_number_text',\n",
       " 'appellant_technology_center_number',\n",
       " 'appellant_patent_owner_name',\n",
       " 'appellant_party_name',\n",
       " 'appellant_group_art_unit_number',\n",
       " 'appellant_inventor_name',\n",
       " 'appellant_counsel_name',\n",
       " 'appellant_grant_date',\n",
       " 'appellant_patent_number',\n",
       " 'appellant_application_number_text',\n",
       " 'appellant_publication_date',\n",
       " 'appellant_publication_number',\n",
       " 'third_party_name',\n",
       " 'second_respondent_party_name',\n",
       " 'second_respondent_appl_number_text',\n",
       " 'second_respondent_patent_number',\n",
       " 'second_respondent_grant_date',\n",
       " 'second_respondent_patent_owner_name',\n",
       " 'second_respondent_inventor_name',\n",
       " 'second_respondent_counsel_name',\n",
       " 'second_respondent_g_a_u_number',\n",
       " 'second_respondent_tech_center_number',\n",
       " 'second_respondent_pub_number',\n",
       " 'second_respondent_publication_date',\n",
       " 'additional_respondents']"
      ]
     },
     "execution_count": 10,
     "metadata": {},
     "output_type": "execute_result"
    }
   ],
   "source": [
    "[f.name for f in trial.fields()]"
   ]
  },
  {
   "cell_type": "markdown",
   "metadata": {},
   "source": [
    "Where possible, there are also related objects that can be fetch from a Model object. For example, the challenged patent has a related USApplication. A complete list of all related objects and other data can be found by calling the help function on the object:"
   ]
  },
  {
   "cell_type": "code",
   "execution_count": 11,
   "metadata": {},
   "outputs": [
    {
     "name": "stdout",
     "output_type": "stream",
     "text": [
      "Help on PtabProceeding in module patent_client.uspto.ptab.model object:\n",
      "\n",
      "class PtabProceeding(patent_client.util.model.Model)\n",
      " |  PtabProceeding(last_modified_date: 'datetime.datetime' = None, last_modified_user_id: 'datetime.datetime' = None, institution_decision_date: 'datetime.date' = None, proceeding_filing_date: 'datetime.date' = None, accorded_filing_date: 'datetime.date' = None, proceeding_status_category: str = None, proceeding_number: str = None, proceeding_last_modified_date: 'datetime.date' = None, proceeding_type_category: str = None, subproceeding_type_category: str = None, decision_date: 'datetime.date' = None, docket_notice_mail_date: 'datetime.date' = None, declaration_date: 'datetime.date' = None, style_name_text: str = None, respondent_technology_center_number: str = None, respondent_patent_owner_name: str = None, respondent_party_name: str = None, respondent_group_art_unit_number: str = None, respondent_inventor_name: str = None, respondent_counsel_name: str = None, respondent_grant_date: 'datetime.date' = None, respondent_patent_number: str = None, respondent_application_number_text: str = None, respondent_publication_number: str = None, respondent_publication_date: 'datetime.date' = None, petitioner_technology_center_number: str = None, petitioner_patent_owner_name: str = None, petitioner_party_name: str = None, petitioner_group_art_unit_number: str = None, petitioner_inventor_name: str = None, petitioner_counsel_name: str = None, petitioner_grant_date: 'datetime.date' = None, petitioner_patent_number: str = None, petitioner_application_number_text: str = None, appellant_technology_center_number: str = None, appellant_patent_owner_name: str = None, appellant_party_name: str = None, appellant_group_art_unit_number: str = None, appellant_inventor_name: str = None, appellant_counsel_name: str = None, appellant_grant_date: 'datetime.date' = None, appellant_patent_number: str = None, appellant_application_number_text: str = None, appellant_publication_date: 'datetime.date' = None, appellant_publication_number: str = None, third_party_name: str = None, second_respondent_party_name: str = None, second_respondent_appl_number_text: str = None, second_respondent_patent_number: str = None, second_respondent_grant_date: 'datetime.date' = None, second_respondent_patent_owner_name: str = None, second_respondent_inventor_name: str = None, second_respondent_counsel_name: str = None, second_respondent_g_a_u_number: str = None, second_respondent_tech_center_number: str = None, second_respondent_pub_number: str = None, second_respondent_publication_date: 'datetime.date' = None, additional_respondents: 'ListManager[str]' = <factory>) -> None\n",
      " |  \n",
      " |  A PTAB Proceeding - e.g. IPR/CBM/DER Trial, Patent Appeal, Interference, etc.\n",
      " |  \n",
      " |  All fields are query-able. Date ranges can be formed by inserting \"from\" or \"to\" on a query\n",
      " |  for a date range.\n",
      " |  \n",
      " |  Method resolution order:\n",
      " |      PtabProceeding\n",
      " |      patent_client.util.model.Model\n",
      " |      patent_client.util.model.ModelABC\n",
      " |      builtins.object\n",
      " |  \n",
      " |  Methods defined here:\n",
      " |  \n",
      " |  __eq__(self, other)\n",
      " |  \n",
      " |  __init__(self, last_modified_date: 'datetime.datetime' = None, last_modified_user_id: 'datetime.datetime' = None, institution_decision_date: 'datetime.date' = None, proceeding_filing_date: 'datetime.date' = None, accorded_filing_date: 'datetime.date' = None, proceeding_status_category: str = None, proceeding_number: str = None, proceeding_last_modified_date: 'datetime.date' = None, proceeding_type_category: str = None, subproceeding_type_category: str = None, decision_date: 'datetime.date' = None, docket_notice_mail_date: 'datetime.date' = None, declaration_date: 'datetime.date' = None, style_name_text: str = None, respondent_technology_center_number: str = None, respondent_patent_owner_name: str = None, respondent_party_name: str = None, respondent_group_art_unit_number: str = None, respondent_inventor_name: str = None, respondent_counsel_name: str = None, respondent_grant_date: 'datetime.date' = None, respondent_patent_number: str = None, respondent_application_number_text: str = None, respondent_publication_number: str = None, respondent_publication_date: 'datetime.date' = None, petitioner_technology_center_number: str = None, petitioner_patent_owner_name: str = None, petitioner_party_name: str = None, petitioner_group_art_unit_number: str = None, petitioner_inventor_name: str = None, petitioner_counsel_name: str = None, petitioner_grant_date: 'datetime.date' = None, petitioner_patent_number: str = None, petitioner_application_number_text: str = None, appellant_technology_center_number: str = None, appellant_patent_owner_name: str = None, appellant_party_name: str = None, appellant_group_art_unit_number: str = None, appellant_inventor_name: str = None, appellant_counsel_name: str = None, appellant_grant_date: 'datetime.date' = None, appellant_patent_number: str = None, appellant_application_number_text: str = None, appellant_publication_date: 'datetime.date' = None, appellant_publication_number: str = None, third_party_name: str = None, second_respondent_party_name: str = None, second_respondent_appl_number_text: str = None, second_respondent_patent_number: str = None, second_respondent_grant_date: 'datetime.date' = None, second_respondent_patent_owner_name: str = None, second_respondent_inventor_name: str = None, second_respondent_counsel_name: str = None, second_respondent_g_a_u_number: str = None, second_respondent_tech_center_number: str = None, second_respondent_pub_number: str = None, second_respondent_publication_date: 'datetime.date' = None, additional_respondents: 'ListManager[str]' = <factory>) -> None\n",
      " |  \n",
      " |  __repr__(self)\n",
      " |      Return repr(self).\n",
      " |  \n",
      " |  ----------------------------------------------------------------------\n",
      " |  Readonly properties defined here:\n",
      " |  \n",
      " |  decisions\n",
      " |      Decisions associated with the Proceeding\n",
      " |  \n",
      " |  documents\n",
      " |      Documents associated with the Proceeding\n",
      " |  \n",
      " |  us_application\n",
      " |      The US Application provided by PEDS associated with the Proceeding\n",
      " |  \n",
      " |  ----------------------------------------------------------------------\n",
      " |  Data and other attributes defined here:\n",
      " |  \n",
      " |  __annotations__ = {'accorded_filing_date': 'datetime.date', 'additiona...\n",
      " |  \n",
      " |  __dataclass_fields__ = {'accorded_filing_date': Field(name='accorded_f...\n",
      " |  \n",
      " |  __dataclass_params__ = _DataclassParams(init=True,repr=True,eq=True,or...\n",
      " |  \n",
      " |  __hash__ = None\n",
      " |  \n",
      " |  __manager__ = 'patent_client.uspto.ptab.manager.PtabProceedingManager'\n",
      " |  \n",
      " |  accorded_filing_date = None\n",
      " |  \n",
      " |  appellant_application_number_text = None\n",
      " |  \n",
      " |  appellant_counsel_name = None\n",
      " |  \n",
      " |  appellant_grant_date = None\n",
      " |  \n",
      " |  appellant_group_art_unit_number = None\n",
      " |  \n",
      " |  appellant_inventor_name = None\n",
      " |  \n",
      " |  appellant_party_name = None\n",
      " |  \n",
      " |  appellant_patent_number = None\n",
      " |  \n",
      " |  appellant_patent_owner_name = None\n",
      " |  \n",
      " |  appellant_publication_date = None\n",
      " |  \n",
      " |  appellant_publication_number = None\n",
      " |  \n",
      " |  appellant_technology_center_number = None\n",
      " |  \n",
      " |  decision_date = None\n",
      " |  \n",
      " |  declaration_date = None\n",
      " |  \n",
      " |  docket_notice_mail_date = None\n",
      " |  \n",
      " |  institution_decision_date = None\n",
      " |  \n",
      " |  last_modified_date = None\n",
      " |  \n",
      " |  last_modified_user_id = None\n",
      " |  \n",
      " |  petitioner_application_number_text = None\n",
      " |  \n",
      " |  petitioner_counsel_name = None\n",
      " |  \n",
      " |  petitioner_grant_date = None\n",
      " |  \n",
      " |  petitioner_group_art_unit_number = None\n",
      " |  \n",
      " |  petitioner_inventor_name = None\n",
      " |  \n",
      " |  petitioner_party_name = None\n",
      " |  \n",
      " |  petitioner_patent_number = None\n",
      " |  \n",
      " |  petitioner_patent_owner_name = None\n",
      " |  \n",
      " |  petitioner_technology_center_number = None\n",
      " |  \n",
      " |  proceeding_filing_date = None\n",
      " |  \n",
      " |  proceeding_last_modified_date = None\n",
      " |  \n",
      " |  proceeding_number = None\n",
      " |  \n",
      " |  proceeding_status_category = None\n",
      " |  \n",
      " |  proceeding_type_category = None\n",
      " |  \n",
      " |  respondent_application_number_text = None\n",
      " |  \n",
      " |  respondent_counsel_name = None\n",
      " |  \n",
      " |  respondent_grant_date = None\n",
      " |  \n",
      " |  respondent_group_art_unit_number = None\n",
      " |  \n",
      " |  respondent_inventor_name = None\n",
      " |  \n",
      " |  respondent_party_name = None\n",
      " |  \n",
      " |  respondent_patent_number = None\n",
      " |  \n",
      " |  respondent_patent_owner_name = None\n",
      " |  \n",
      " |  respondent_publication_date = None\n",
      " |  \n",
      " |  respondent_publication_number = None\n",
      " |  \n",
      " |  respondent_technology_center_number = None\n",
      " |  \n",
      " |  second_respondent_appl_number_text = None\n",
      " |  \n",
      " |  second_respondent_counsel_name = None\n",
      " |  \n",
      " |  second_respondent_g_a_u_number = None\n",
      " |  \n",
      " |  second_respondent_grant_date = None\n",
      " |  \n",
      " |  second_respondent_inventor_name = None\n",
      " |  \n",
      " |  second_respondent_party_name = None\n",
      " |  \n",
      " |  second_respondent_patent_number = None\n",
      " |  \n",
      " |  second_respondent_patent_owner_name = None\n",
      " |  \n",
      " |  second_respondent_pub_number = None\n",
      " |  \n",
      " |  second_respondent_publication_date = None\n",
      " |  \n",
      " |  second_respondent_tech_center_number = None\n",
      " |  \n",
      " |  style_name_text = None\n",
      " |  \n",
      " |  subproceeding_type_category = None\n",
      " |  \n",
      " |  third_party_name = None\n",
      " |  \n",
      " |  ----------------------------------------------------------------------\n",
      " |  Methods inherited from patent_client.util.model.Model:\n",
      " |  \n",
      " |  __iter__(self)\n",
      " |  \n",
      " |  fields(self)\n",
      " |      Return list of fields\n",
      " |  \n",
      " |  items(self)\n",
      " |  \n",
      " |  to_dict(self, item_class=<class 'patent_client.util.row.Row'>, collection_class=<class 'patent_client.util.collections.ListManager'>)\n",
      " |      Convert model to a dictionary representation\n",
      " |  \n",
      " |  to_json(self, *args, **kwargs)\n",
      " |  \n",
      " |  to_pandas(self)\n",
      " |      Convert object to Pandas Series\n",
      " |  \n",
      " |  ----------------------------------------------------------------------\n",
      " |  Data and other attributes inherited from patent_client.util.model.Model:\n",
      " |  \n",
      " |  __default_fields__ = False\n",
      " |  \n",
      " |  __exclude_fields__ = []\n",
      " |  \n",
      " |  ----------------------------------------------------------------------\n",
      " |  Data descriptors inherited from patent_client.util.model.ModelABC:\n",
      " |  \n",
      " |  __dict__\n",
      " |      dictionary for instance variables (if defined)\n",
      " |  \n",
      " |  __weakref__\n",
      " |      list of weak references to the object (if defined)\n",
      "\n"
     ]
    }
   ],
   "source": [
    "help(trial)"
   ]
  },
  {
   "cell_type": "markdown",
   "metadata": {},
   "source": [
    "From the data above, we see that there is a related data object called \"us_application\". That is, we can fetch the application object that corresponds to the PtabTrial simply by retreiving the attribute .us_application, like so:"
   ]
  },
  {
   "cell_type": "code",
   "execution_count": 12,
   "metadata": {},
   "outputs": [
    {
     "name": "stdout",
     "output_type": "stream",
     "text": [
      "USApplication(appl_id='11395685', patent_title='SYSTEM AND METHOD FOR MONITORING AND CONTROLLING REMOTE DEVICES', app_status='Patented Case')\n",
      "{'app_attr_dock_number': 'STAT3', 'app_cls_sub_cls': '340/531000', 'app_confr_number': '1922', 'app_cust_number': '89818', 'app_early_pub_date': datetime.date(2006, 8, 17), 'app_early_pub_number': 'US20060181406A1', 'app_entity_status': 'UNDISCOUNTED', 'app_exam_name': 'PHAM, TOAN NGOC', 'app_filing_date': datetime.date(2006, 3, 31), 'app_grp_art_number': '2612', 'app_location': 'ELECTRONIC', 'app_status': 'Patented Case', 'app_status_date': datetime.date(2008, 12, 3), 'app_type': 'Utility'}\n"
     ]
    }
   ],
   "source": [
    "trial_app = trial.us_application\n",
    "print(trial_app)\n",
    "print({k:v for (k, v) in trial_app.to_dict().items() if 'app_' in k})"
   ]
  }
 ],
 "metadata": {
  "kernelspec": {
   "display_name": "Python 3 (ipykernel)",
   "language": "python",
   "name": "python3"
  },
  "language_info": {
   "codemirror_mode": {
    "name": "ipython",
    "version": 3
   },
   "file_extension": ".py",
   "mimetype": "text/x-python",
   "name": "python",
   "nbconvert_exporter": "python",
   "pygments_lexer": "ipython3",
   "version": "3.9.12"
  }
 },
 "nbformat": 4,
 "nbformat_minor": 4
}
