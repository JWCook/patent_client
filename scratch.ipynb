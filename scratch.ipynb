{
 "cells": [
  {
   "cell_type": "code",
   "execution_count": 15,
   "metadata": {},
   "outputs": [],
   "source": [
    "import httpx\n",
    "from tempfile import NamedTemporaryFile\n",
    "from pathlib import Path\n",
    "client = httpx.AsyncClient()\n",
    "\n",
    "temp_file = Path(\"temp.txt\")\n",
    "\n",
    "response = await client.get(\n",
    "    \"https://ppubs.uspto.gov/dirsearch-public/print/save/US-6103599-A_USPAT_1698722701475.pdf\",\n",
    "        headers={\n",
    "        \"X-Requested-With\": \"XMLHttpRequest\",\n",
    "        \"User-Agent\": \"Mozilla/5.0 (Macintosh; Intel Mac OS X 10_15_7) AppleWebKit/537.36 (KHTML, like Gecko) Chrome/114.0.0.0 Safari/537.36\",\n",
    "    },\n",
    ")"
   ]
  },
  {
   "cell_type": "code",
   "execution_count": 16,
   "metadata": {},
   "outputs": [
    {
     "name": "stdout",
     "output_type": "stream",
     "text": [
      "{'developerMessage': 'The specified key does not exist. (Service: Amazon S3; '\n",
      "                     'Status Code: 404; Error Code: NoSuchKey; Request ID: '\n",
      "                     'KEVMC4VRFA3ZM784; S3 Extended Request ID: '\n",
      "                     '4Be9Jrz5mEU6fuPD0OHwKEleWp/H1zF6ahaHmId3UIyBVoKP3p8FLUm5FqYSgoi9q7EDHinJzqQ=; '\n",
      "                     'Proxy: null)',\n",
      " 'message': 'An unexpected error occurred.',\n",
      " 'status': 'INTERNAL_SERVER_ERROR'}\n"
     ]
    }
   ],
   "source": [
    "from pprint import pprint\n",
    "pprint(response.json())"
   ]
  },
  {
   "cell_type": "code",
   "execution_count": 17,
   "metadata": {},
   "outputs": [
    {
     "data": {
      "text/plain": [
       "<Response [500 ]>"
      ]
     },
     "execution_count": 17,
     "metadata": {},
     "output_type": "execute_result"
    }
   ],
   "source": [
    "response"
   ]
  },
  {
   "cell_type": "code",
   "execution_count": null,
   "metadata": {},
   "outputs": [],
   "source": []
  }
 ],
 "metadata": {
  "kernelspec": {
   "display_name": "patent-client-s-mN7I-j-py3.11",
   "language": "python",
   "name": "python3"
  },
  "language_info": {
   "codemirror_mode": {
    "name": "ipython",
    "version": 3
   },
   "file_extension": ".py",
   "mimetype": "text/x-python",
   "name": "python",
   "nbconvert_exporter": "python",
   "pygments_lexer": "ipython3",
   "version": "3.11.4"
  }
 },
 "nbformat": 4,
 "nbformat_minor": 2
}
